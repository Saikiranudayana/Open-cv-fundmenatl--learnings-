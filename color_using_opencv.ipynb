{
 "cells": [
  {
   "cell_type": "code",
   "execution_count": 1,
   "id": "e96dffef",
   "metadata": {},
   "outputs": [],
   "source": [
    "import cv2\n"
   ]
  },
  {
   "cell_type": "code",
   "execution_count": 2,
   "id": "cf87048e",
   "metadata": {},
   "outputs": [],
   "source": [
    "bgr_image = cv2.imread('.Mountain.jpg')"
   ]
  },
  {
   "cell_type": "code",
   "execution_count": 6,
   "id": "32676898",
   "metadata": {},
   "outputs": [
    {
     "name": "stdout",
     "output_type": "stream",
     "text": [
      "Error: bgr_image is None. Please check the image path or file.\n"
     ]
    }
   ],
   "source": [
    "## conver to grasy scale\n",
    "if bgr_image is not None:\n",
    "    grey_image = cv2.cvtColor(bgr_image, cv2.COLOR_BGR2GRAY)\n",
    "else:\n",
    "    grey_image = None\n",
    "if bgr_image is not None:\n",
    "    cv2.imwrite('grey_image.jpg', grey_image)\n",
    "else:\n",
    "    print(\"Error: bgr_image is None. Please check the image path or file.\")\n",
    "    "
   ]
  },
  {
   "cell_type": "code",
   "execution_count": null,
   "id": "cea36b41",
   "metadata": {},
   "outputs": [],
   "source": [
    "if bgr_image is not None:\n",
    "    grey_image = cv2.cvtColor(bgr_image, cv2.COLOR_BGR2GRAY)\n",
    "else:\n",
    "    grey_image = None\n",
    "    \n",
    "    \n",
    "    \n",
    "    "
   ]
  }
 ],
 "metadata": {
  "kernelspec": {
   "display_name": "opencv",
   "language": "python",
   "name": "python3"
  },
  "language_info": {
   "codemirror_mode": {
    "name": "ipython",
    "version": 3
   },
   "file_extension": ".py",
   "mimetype": "text/x-python",
   "name": "python",
   "nbconvert_exporter": "python",
   "pygments_lexer": "ipython3",
   "version": "3.11.13"
  }
 },
 "nbformat": 4,
 "nbformat_minor": 5
}
