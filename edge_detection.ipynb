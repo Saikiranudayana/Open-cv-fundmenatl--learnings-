{
 "cells": [
  {
   "cell_type": "code",
   "execution_count": 1,
   "id": "a4d3f4b0",
   "metadata": {},
   "outputs": [],
   "source": [
    "import cv2 \n",
    "import matplotlib.pyplot as plt\n",
    "import numpy as np "
   ]
  },
  {
   "cell_type": "code",
   "execution_count": 2,
   "id": "70232390",
   "metadata": {},
   "outputs": [],
   "source": [
    "image = cv2.imread('giraffe.jpg',cv2.IMREAD_GRAYSCALE)\n",
    "\n"
   ]
  },
  {
   "cell_type": "code",
   "execution_count": null,
   "id": "32f0e009",
   "metadata": {},
   "outputs": [],
   "source": [
    "# sobel\n",
    "\n",
    "sobel_x = cv2.Sobel(image,cv2.CV_64F,1,0,ksize=5)\n",
    "sobel_y = cv2.Sobel(image,cv2.CV_64F,0,1,ksize=5)\n",
    "sobel_combined = cv2.magnitude(sobel_x, sobel_y)\n",
    "\n",
    "\n",
    "#laplacian \n",
    "\n",
    "laplacian = cv2.Laplacian(image, cv2.CV_64F, ksize=5)\n",
    "laplacian_abs = cv2.convertScaleAbs(laplacian)\n",
    "\n",
    "#canny\n",
    "\n",
    "canny_image = cv2.Canny(image, 100, 200)\n",
    "\n"
   ]
  },
  {
   "cell_type": "code",
   "execution_count": 6,
   "id": "ce1339ca",
   "metadata": {},
   "outputs": [
    {
     "ename": "NameError",
     "evalue": "name 'sobel_x' is not defined",
     "output_type": "error",
     "traceback": [
      "\u001b[31m---------------------------------------------------------------------------\u001b[39m",
      "\u001b[31mNameError\u001b[39m                                 Traceback (most recent call last)",
      "\u001b[36mCell\u001b[39m\u001b[36m \u001b[39m\u001b[32mIn[6]\u001b[39m\u001b[32m, line 4\u001b[39m\n\u001b[32m      1\u001b[39m \u001b[38;5;66;03m# titles is already defined in the notebook, so you don't need to redefine it.\u001b[39;00m\n\u001b[32m      3\u001b[39m titles = [\u001b[33m'\u001b[39m\u001b[33mOriginal Image\u001b[39m\u001b[33m'\u001b[39m, \u001b[33m'\u001b[39m\u001b[33mSobel X\u001b[39m\u001b[33m'\u001b[39m, \u001b[33m'\u001b[39m\u001b[33mSobel Y\u001b[39m\u001b[33m'\u001b[39m, \u001b[33m'\u001b[39m\u001b[33mSobel Combined\u001b[39m\u001b[33m'\u001b[39m, \u001b[33m'\u001b[39m\u001b[33mLaplacian Absolute\u001b[39m\u001b[33m'\u001b[39m, \u001b[33m'\u001b[39m\u001b[33mCanny Edge Detection\u001b[39m\u001b[33m'\u001b[39m]\n\u001b[32m----> \u001b[39m\u001b[32m4\u001b[39m images = [image, \u001b[43msobel_x\u001b[49m, sobel_y, sobel_combined, laplacian_abs, canny_image]\n\u001b[32m      6\u001b[39m plt.figure(figsize=(\u001b[32m12\u001b[39m, \u001b[32m8\u001b[39m))\n\u001b[32m      7\u001b[39m \u001b[38;5;28;01mfor\u001b[39;00m i \u001b[38;5;129;01min\u001b[39;00m \u001b[38;5;28mrange\u001b[39m(\u001b[38;5;28mlen\u001b[39m(images)):\n",
      "\u001b[31mNameError\u001b[39m: name 'sobel_x' is not defined"
     ]
    }
   ],
   "source": [
    "\n",
    "# titles is already defined in the notebook, so you don't need to redefine it.\n",
    "\n",
    "titles = ['Original Image', 'Sobel X', 'Sobel Y', 'Sobel Combined', 'Laplacian Absolute', 'Canny Edge Detection']\n",
    "images = [image, sobel_x, sobel_y, sobel_combined, laplacian_abs, canny_image]\n",
    "\n",
    "plt.figure(figsize=(12, 8))\n",
    "for i in range(len(images)):\n",
    "    plt.subplot(2, 3, i + 1)\n",
    "    plt.imshow(images[i], cmap='gray')\n",
    "    plt.title(titles[i])\n",
    "    plt.axis('off')\n",
    "plt.show()"
   ]
  }
 ],
 "metadata": {
  "kernelspec": {
   "display_name": "opencv",
   "language": "python",
   "name": "python3"
  },
  "language_info": {
   "codemirror_mode": {
    "name": "ipython",
    "version": 3
   },
   "file_extension": ".py",
   "mimetype": "text/x-python",
   "name": "python",
   "nbconvert_exporter": "python",
   "pygments_lexer": "ipython3",
   "version": "3.11.13"
  }
 },
 "nbformat": 4,
 "nbformat_minor": 5
}
